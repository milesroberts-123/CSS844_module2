{
 "cells": [
  {
   "cell_type": "markdown",
   "metadata": {},
   "source": [
    "# Slightly modified version of Miles' code for the initial crop of our image + "
   ]
  },
  {
   "cell_type": "code",
   "execution_count": null,
   "metadata": {},
   "outputs": [],
   "source": [
    "#The following code snip-it reads any file from the internet and saves it to your local directory.\n",
    "from urllib.request import urlopen, urlretrieve\n",
    "from imageio import imread, imsave\n",
    "from matplotlib.pylab import plt\n",
    "import numpy as np\n",
    "import skimage\n",
    "from skimage.morphology import remove_small_holes\n",
    "from skimage.morphology import remove_small_objects\n",
    "from skimage import exposure #histogram equalization\n",
    "import colorsys #To convert to rbg to hsv color space\n",
    "import matplotlib.colors as colors\n",
    "import os #For getting list of files\n",
    "from scipy import ndimage #For performing erosion and dilation\n",
    "from ipywidgets import interactive,fixed #For interactives\n",
    "\n",
    "#Get list of photo names\n",
    "fileNames = ['IMG_8277.jpg','IMG_8280.jpg','IMG_8333.jpg','IMG_8338.jpg','IMG_8342.jpg','IMG_8343.jpg','IMG_8312.jpg','IMG_8284.jpg','IMG_8349.jpg']\n",
    "\n",
    "#Define thresholds for isolating tray in photos\n",
    "hmin = -0.01\n",
    "hmax = 1.01\n",
    "smin = -0.01\n",
    "smax = 0.05\n",
    "vmin = -0.01\n",
    "vmax = 1.01\n",
    "\n",
    "#Function for calculating run lengths in a binary array\n",
    "#function is from: https://stackoverflow.com/questions/1066758/find-length-of-sequences-of-identical-values-in-a-numpy-array-run-length-encodi\n",
    "def rle(inarray):\n",
    "        \"\"\" run length encoding. Partial credit to R rle function. \n",
    "            Multi datatype arrays catered for including non Numpy\n",
    "            returns: tuple (runlengths, startpositions, values) \"\"\"\n",
    "        ia = np.asarray(inarray)                # force numpy\n",
    "        n = len(ia)\n",
    "        if n == 0: \n",
    "            return (None, None, None)\n",
    "        else:\n",
    "            y = ia[1:] != ia[:-1]               # pairwise unequal (string safe)\n",
    "            i = np.append(np.where(y), n - 1)   # must include last element posi\n",
    "            z = np.diff(np.append(-1, i))       # run lengths\n",
    "            p = np.cumsum(np.append(0, z))[:-1] # positions\n",
    "            return(z, p, ia[i])\n",
    "\n",
    "conversion_dict = {}        \n",
    "\n",
    "#Loop over photos and crop them\n",
    "for fileName in fileNames:\n",
    "    #Load picture\n",
    "    im = imread(fileName)\n",
    "    \n",
    "    #Histogram equalization\n",
    "    im2 = exposure.equalize_hist(im)\n",
    "    \n",
    "    #convert from rgb to hsv color space, pull out matrices\n",
    "    hsv = colors.rgb_to_hsv(im2)\n",
    "    h = hsv[:,:,0]; #hue matrix\n",
    "    s = hsv[:,:,1]; #saturation matrix\n",
    "    v = hsv[:,:,2]; #value matrix (i.e. brightness)\n",
    "    \n",
    "    #Convert to binary image based on thresholds\n",
    "    # trick because the color space wraps\n",
    "    if hmin > hmax:\n",
    "        b_img = (h > hmin) | (h < hmax)\n",
    "    else:\n",
    "        b_img = (h > hmin) & (h < hmax);\n",
    "    b_img = (b_img & \n",
    "        (s > smin) & (s < smax) & \n",
    "        (v > vmin) & (v < vmax));\n",
    "    \n",
    "    #Clean up binary image with erosion and dilation\n",
    "    b4 = skimage.morphology.remove_small_holes(b_img,area_threshold=50000) # removing holes\n",
    "    b5 = skimage.morphology.remove_small_holes(b4,area_threshold=10000) # removing holes again\n",
    "    b6 = skimage.morphology.remove_small_holes(b5,area_threshold=10000) # removing even more holes\n",
    "    b8 = remove_small_objects(b6,min_size=50000) #removing any chaff \n",
    "    \n",
    "    #Label objects in binary image\n",
    "    lab, num_features = ndimage.measurements.label(b8)\n",
    "    \n",
    "    #Sum togther rows and columns of binary array to determine which pixels represent the tray (labeled as object 1) \n",
    "    a1 = np.sum(lab==1,axis=1)\n",
    "    a0 = np.sum(lab==1,axis=0)\n",
    "    \n",
    "    #Convert binary arrays to logical arrays. Now just need to find longest run of False elements in each array\n",
    "    al0 = a0 > min(a0)\n",
    "    al1 = a1 > min(a1)\n",
    "    \n",
    "    #Calculate run lengths\n",
    "    runLengths0 = rle(al0)\n",
    "    runLengths1 = rle(al1)\n",
    "    \n",
    "    #Focus on columns\n",
    "    ##Find index of where longest run begins\n",
    "    runs0 = runLengths0[0]\n",
    "    positions0 =  runLengths0[1]\n",
    "    maxRun0 = max(runs0)\n",
    "    result = np.where(runs0 == maxRun0)\n",
    "    ##Calculate where longest run ends\n",
    "    index = np.asarray(result)\n",
    "    startCol = positions0[index].tolist()[0][0] - 120\n",
    "    endCol = startCol + maxRun0 + 240\n",
    "    \n",
    "    #Focus on rows\n",
    "    ##Find index of where longest run begins\n",
    "    runs1 = runLengths1[0]\n",
    "    positions1 =  runLengths1[1]\n",
    "    maxRun1 = max(runs1)\n",
    "    result = np.where(runs1 == maxRun1)\n",
    "    ##Calculate where longest run ends\n",
    "    index = np.asarray(result)\n",
    "    startRow = positions1[index].tolist()[0][0] - 120\n",
    "    endRow = startRow + maxRun1 + 240\n",
    "    \n",
    "    # calculate conversion factor by relating run lengths identified above (maxRun0 is columns and maxRun1 is rows)\n",
    "    # and updating a dictionary, called conversion_dict, with a fileName to conversion factor key:value relationship.\n",
    "    # Note that we don't want to overwrite our files, so we create a 'finalFilename' ahead of time, use that to\n",
    "    # create the dictionary, and then use it to also export our new images. Additionally, we take the average of the\n",
    "    # pixel-to-cm relationships for extra robustness\n",
    "    \n",
    "    finalFilename = \"testing_\" + fileName\n",
    "    \n",
    "    top_bottom_in_cm = 38.5\n",
    "    left_right_in_cm = 29.4\n",
    "    conversion_top_bottom = top_bottom_in_cm / maxRun0\n",
    "    conversion_left_right = left_right_in_cm / maxRun1\n",
    "    average_conversion = (conversion_top_bottom + conversion_left_right) / 2\n",
    "    new_addition = {finalFilename:average_conversion}\n",
    "    conversion_dict.update(new_addition)\n",
    "    \n",
    "    #Crop and save image\n",
    "    im3 = im2[startRow:endRow,startCol:endCol]\n",
    "    imsave(finalFilename, im3)"
   ]
  },
  {
   "cell_type": "markdown",
   "metadata": {},
   "source": [
    "# JK Ear Crop Function - MDR modified to output original and binary images"
   ]
  },
  {
   "cell_type": "code",
   "execution_count": 12,
   "metadata": {},
   "outputs": [],
   "source": [
    "# Function that does the actual segmentation and cropping\n",
    "\n",
    "from imageio import imread, imsave\n",
    "from matplotlib.pylab import plt\n",
    "import numpy as np\n",
    "import skimage\n",
    "import skimage.morphology\n",
    "from scipy.ndimage.measurements import label\n",
    "from scipy.ndimage.measurements import find_objects\n",
    "from skimage.morphology import remove_small_objects\n",
    "from PIL import Image\n",
    "from matplotlib import cm\n",
    "\n",
    "def segment_and_crop_loop(img):\n",
    "    \n",
    "    for i in range(15):\n",
    "    \n",
    "    # segmentation by HSV, as we've done before\n",
    "    \n",
    "        hmin = -0.01\n",
    "        hmax = 0.15\n",
    "        smin = 0.5\n",
    "        smax = 0.90\n",
    "        vmin = 0.35\n",
    "        vmax = 1.01\n",
    "\n",
    "\n",
    "        hsv = colors.rgb_to_hsv(img)\n",
    "        h = hsv[:,:,0];\n",
    "        s = hsv[:,:,1];\n",
    "        v = hsv[:,:,2];\n",
    "\n",
    "        # trick because the color space wraps\n",
    "        if hmin > hmax:\n",
    "            b_img = (h > hmin) | (h < hmax)\n",
    "        else:\n",
    "            b_img = (h > hmin) & (h < hmax);\n",
    "\n",
    "\n",
    "        b_img = (b_img & \n",
    "            (s > smin) & (s < smax) & \n",
    "            (v > vmin) & (v < vmax));\n",
    "\n",
    "\n",
    "        #plt.imshow(b_img) # just showing the image\n",
    "        b_img = ndimage.binary_erosion(b_img,iterations = i) # eroding i times; we increase the erosion each time because i \n",
    "        # only becomes 1+ (i.e. we only erode) if we fail a check at the end that's looking for five independent ears\n",
    "        b4 = skimage.morphology.remove_small_holes(b_img,area_threshold=10000) # removing holes\n",
    "        b5 = skimage.morphology.remove_small_holes(b4,area_threshold=10000) # removing holes again\n",
    "        b6 = skimage.morphology.remove_small_holes(b5,area_threshold=10000) # removing even more holes\n",
    "        #b7 = ndimage.binary_erosion(b6, iterations = 1)\n",
    "        b8 = remove_small_objects(b6,min_size=50000) #removing any chaff \n",
    "\n",
    "        labeled_array, num_features = label(b8) # labeling the resulting cleaned up binary image\n",
    "\n",
    "        objects = []\n",
    "\n",
    "        for i in range(1000):\n",
    "            try:\n",
    "                objects.append(find_objects(labeled_array)[i]) # adding these labeled things to a list\n",
    "            except:\n",
    "                break\n",
    "\n",
    "        slices = []        \n",
    "        imgSlices = []\n",
    "        for i in range(len(objects)):\n",
    "            slices.append(labeled_array[objects[i]]) # extracting slices from these objects\n",
    "            imgSlices.append(img[objects[i]])\n",
    "            \n",
    "        sizes = np.array([])\n",
    "\n",
    "        for i in range(len(slices)):\n",
    "            sizes = np.append(sizes,slices[i].size) # getting the sizes of those slices\n",
    "\n",
    "        i = 0\n",
    "\n",
    "        while i < 6: # we need this loop because in early iterations, everything might be a blob, so it'll throw an error if we don't have five discrete ears\n",
    "            try:\n",
    "                ind = np.argpartition(sizes,-i)[-i:] \n",
    "            except:\n",
    "                i = i -1\n",
    "                ind = np.argpartition(sizes,-i)[-i:]\n",
    "                break\n",
    "            i = i + 1\n",
    "\n",
    "        top_five_slices = []\n",
    "        img_top_five_slices = []\n",
    "        top_five_slices_ordered = []\n",
    "        img_top_five_slices_ordered = []\n",
    "        \n",
    "        for i in range(len(slices)):\n",
    "            top_five_slices.append(slices[ind[i]]) #adding our largest slices to a list\n",
    "            img_top_five_slices.append(imgSlices[ind[i]])\n",
    "            \n",
    "        for i in range(len(slices)):\n",
    "            if slices[i] in top_five_slices:\n",
    "                top_five_slices_ordered.append(slices[i])\n",
    "                img_top_five_slices_ordered.append(imgSlices[i])\n",
    "                \n",
    "        #for i in range(len(top_five_slices_ordered)):\n",
    "            #plt.imshow(top_five_slices_ordered[i]) # plotting each one\n",
    "            #plt.imshow(img_top_five_slices_ordered[i])\n",
    "            \n",
    "        if len(top_five_slices_ordered)>=5: # if we have five discrete objects, we bounce. Otherwise, we continue the loop until we have what we came for\n",
    "            break\n",
    "        else: \n",
    "            continue\n",
    "        \n",
    "            \n",
    "    return top_five_slices_ordered + img_top_five_slices_ordered\n",
    "        "
   ]
  },
  {
   "cell_type": "markdown",
   "metadata": {},
   "source": [
    "# Testing"
   ]
  },
  {
   "cell_type": "code",
   "execution_count": 3,
   "metadata": {},
   "outputs": [],
   "source": [
    "from urllib.request import urlopen, urlretrieve\n",
    "from imageio import imread, imsave\n",
    "from matplotlib.pylab import plt\n",
    "import numpy as np\n",
    "import skimage\n",
    "from skimage.morphology import remove_small_holes\n",
    "from skimage.morphology import remove_small_objects\n",
    "from skimage import exposure #histogram equalization\n",
    "import colorsys #To convert to rbg to hsv color space\n",
    "import matplotlib.colors as colors\n",
    "import os #For getting list of files\n",
    "from scipy import ndimage #For performing erosion and dilation\n",
    "from ipywidgets import interactive,fixed #For interactives"
   ]
  },
  {
   "cell_type": "code",
   "execution_count": 4,
   "metadata": {},
   "outputs": [
    {
     "name": "stderr",
     "output_type": "stream",
     "text": [
      "C:\\Users\\miles\\anaconda3\\lib\\site-packages\\skimage\\exposure\\exposure.py:181: UserWarning: This might be a color image. The histogram will be computed on the flattened image. You can instead apply this function to each color channel.\n",
      "  hist, bin_centers = histogram(image, nbins)\n"
     ]
    },
    {
     "data": {
      "text/plain": [
       "<matplotlib.image.AxesImage at 0x1a5c867eb20>"
      ]
     },
     "execution_count": 4,
     "metadata": {},
     "output_type": "execute_result"
    },
    {
     "data": {
      "image/png": "[encoded data removed]",
      "text/plain": [
       "<Figure size 432x288 with 1 Axes>"
      ]
     },
     "metadata": {
      "needs_background": "light"
     },
     "output_type": "display_data"
    }
   ],
   "source": [
    "# let's look at an image\n",
    "fileName = 'testing_IMG_8342.jpg'\n",
    "image = imread(fileName)\n",
    "image = exposure.equalize_hist(image) # equalizing the exposure\n",
    "plt.imshow(image)"
   ]
  },
  {
   "cell_type": "code",
   "execution_count": 27,
   "metadata": {},
   "outputs": [
    {
     "data": {
      "image/png": "[encoded data removed]",
      "text/plain": [
       "<Figure size 1440x360 with 4 Axes>"
      ]
     },
     "metadata": {
      "needs_background": "light"
     },
     "output_type": "display_data"
    }
   ],
   "source": [
    "hsv = colors.rgb_to_hsv(top_five[5])\n",
    "f, (ax1, ax2, ax3, ax4) = plt.subplots(1, 4,figsize=(20,5))\n",
    "ax1.imshow(hsv[:,:,0], cmap='hsv')\n",
    "ax1.set_title('Hue - Color')\n",
    "ax1.set_axis_off()\n",
    "\n",
    "ax2.imshow(hsv[:,:,1],cmap='gray',vmin=0, vmax=1)\n",
    "ax2.set_title('Saturation - Amount of Color')\n",
    "ax2.set_axis_off()\n",
    "\n",
    "ax3.imshow(hsv[:,:,2],cmap='gray')\n",
    "ax3.set_title('Value - Brightness')\n",
    "ax3.set_axis_off()\n",
    "\n",
    "ax4.imshow(top_five[5])\n",
    "ax4.set_axis_off()"
   ]
  },
  {
   "cell_type": "code",
   "execution_count": 25,
   "metadata": {
    "scrolled": true
   },
   "outputs": [
    {
     "data": {
      "application/vnd.jupyter.widget-view+json": {
       "model_id": "64c636112b31496e9ba87c1272c19946",
       "version_major": 2,
       "version_minor": 0
      },
      "text/plain": [
       "interactive(children=(FloatSlider(value=-0.01, description='hmin', max=1.01, min=-0.01, step=0.01), FloatSlide…"
      ]
     },
     "metadata": {},
     "output_type": "display_data"
    }
   ],
   "source": [
    "from ipywidgets import interactive,fixed #For interactives\n",
    "def hsv_color_threshold(im, hmin=-0.01,hmax=1.01, smin=-0.01,smax=1.01,vmin=-1,vmax=256):\n",
    "    # Pull out the red, gree and blue matrixes\n",
    "    hsv = colors.rgb_to_hsv(im)\n",
    "    h = hsv[:,:,0];\n",
    "    s = hsv[:,:,1];\n",
    "    v = hsv[:,:,2];\n",
    "    \n",
    "    # trick because the color space wraps\n",
    "    if hmin > hmax:\n",
    "        b_img = (h > hmin) | (h < hmax)\n",
    "    else:\n",
    "        b_img = (h > hmin) & (h < hmax);\n",
    "    \n",
    "    \n",
    "    b_img = (b_img & \n",
    "         (s > smin) & (s < smax) & \n",
    "         (v > vmin) & (v < vmax));\n",
    "    \n",
    "    f, (ax1, ax2) = plt.subplots(1, 2,figsize=(20,5))\n",
    "    ax1.imshow(im)\n",
    "    ax1.set_axis_off()\n",
    "    \n",
    "    ax2.imshow(b_img,cmap='gray', vmin=0, vmax=1)\n",
    "    ax2.set_title('Value - Brightness')\n",
    "    ax2.set_axis_off()\n",
    "\n",
    "    plt.show()\n",
    "    return b_img*1;\n",
    "\n",
    "w = interactive(hsv_color_threshold, im=fixed(top_five[5]),\n",
    "         hmin=(-0.01,1.01,0.01), hmax=(-0.01,1.01,0.01), \n",
    "         smin=(-0.01,1.01,0.01), smax=(-0.01,1.01,0.01), \n",
    "         vmin=(-1,256), vmax=(-1,256),__manual=True);\n",
    "w"
   ]
  },
  {
   "cell_type": "code",
   "execution_count": null,
   "metadata": {
    "scrolled": true
   },
   "outputs": [],
   "source": [
    "image"
   ]
  },
  {
   "cell_type": "code",
   "execution_count": 14,
   "metadata": {},
   "outputs": [
    {
     "name": "stderr",
     "output_type": "stream",
     "text": [
      "<ipython-input-12-0207015e6c4e>:96: DeprecationWarning: elementwise comparison failed; this will raise an error in the future.\n",
      "  if slices[i] in top_five_slices:\n"
     ]
    },
    {
     "data": {
      "text/plain": [
       "<matplotlib.image.AxesImage at 0x1a58c51af70>"
      ]
     },
     "execution_count": 14,
     "metadata": {},
     "output_type": "execute_result"
    },
    {
     "data": {
      "image/png": "[encoded data removed]",
      "text/plain": [
       "<Figure size 432x288 with 10 Axes>"
      ]
     },
     "metadata": {
      "needs_background": "light"
     },
     "output_type": "display_data"
    }
   ],
   "source": [
    "# run the segment_and_crop_loop function and then plot our five objects\n",
    "top_five = segment_and_crop_loop(image)\n",
    "fig, ax = plt.subplots(10,1)\n",
    "ax[0].imshow(top_five[0])\n",
    "ax[1].imshow(top_five[1])\n",
    "ax[2].imshow(top_five[2])\n",
    "ax[3].imshow(top_five[3])\n",
    "ax[4].imshow(top_five[4])\n",
    "ax[5].imshow(top_five[5])\n",
    "ax[6].imshow(top_five[6])\n",
    "ax[7].imshow(top_five[7])\n",
    "ax[8].imshow(top_five[8])\n",
    "ax[9].imshow(top_five[9])"
   ]
  },
  {
   "cell_type": "markdown",
   "metadata": {},
   "source": [
    "# Measure symmetry index for individual cobs"
   ]
  },
  {
   "cell_type": "code",
   "execution_count": 36,
   "metadata": {},
   "outputs": [
    {
     "name": "stderr",
     "output_type": "stream",
     "text": [
      "C:\\Users\\miles\\anaconda3\\lib\\site-packages\\skimage\\exposure\\exposure.py:181: UserWarning: This might be a color image. The histogram will be computed on the flattened image. You can instead apply this function to each color channel.\n",
      "  hist, bin_centers = histogram(image, nbins)\n",
      "<ipython-input-12-0207015e6c4e>:96: DeprecationWarning: elementwise comparison failed; this will raise an error in the future.\n",
      "  if slices[i] in top_five_slices:\n",
      "<ipython-input-36-f0668ec24f0f>:15: UserWarning: Any labeled images will be returned as a boolean array. Did you mean to use a boolean array?\n",
      "  b2 = skimage.morphology.remove_small_holes(b1,area_threshold=10000)\n"
     ]
    },
    {
     "name": "stdout",
     "output_type": "stream",
     "text": [
      "0_testing_IMG_8277.jpg\n",
      "19.955525606469003\n"
     ]
    },
    {
     "name": "stderr",
     "output_type": "stream",
     "text": [
      "<ipython-input-36-f0668ec24f0f>:15: UserWarning: Any labeled images will be returned as a boolean array. Did you mean to use a boolean array?\n",
      "  b2 = skimage.morphology.remove_small_holes(b1,area_threshold=10000)\n"
     ]
    },
    {
     "name": "stdout",
     "output_type": "stream",
     "text": [
      "1_testing_IMG_8277.jpg\n",
      "18.14119718309859\n"
     ]
    },
    {
     "name": "stderr",
     "output_type": "stream",
     "text": [
      "<ipython-input-36-f0668ec24f0f>:15: UserWarning: Any labeled images will be returned as a boolean array. Did you mean to use a boolean array?\n",
      "  b2 = skimage.morphology.remove_small_holes(b1,area_threshold=10000)\n"
     ]
    },
    {
     "name": "stdout",
     "output_type": "stream",
     "text": [
      "2_testing_IMG_8277.jpg\n",
      "19.283450704225352\n"
     ]
    },
    {
     "name": "stderr",
     "output_type": "stream",
     "text": [
      "<ipython-input-36-f0668ec24f0f>:15: UserWarning: Any labeled images will be returned as a boolean array. Did you mean to use a boolean array?\n",
      "  b2 = skimage.morphology.remove_small_holes(b1,area_threshold=10000)\n"
     ]
    },
    {
     "name": "stdout",
     "output_type": "stream",
     "text": [
      "3_testing_IMG_8277.jpg\n",
      "19.311831789023522\n"
     ]
    },
    {
     "name": "stderr",
     "output_type": "stream",
     "text": [
      "<ipython-input-36-f0668ec24f0f>:15: UserWarning: Any labeled images will be returned as a boolean array. Did you mean to use a boolean array?\n",
      "  b2 = skimage.morphology.remove_small_holes(b1,area_threshold=10000)\n"
     ]
    },
    {
     "name": "stdout",
     "output_type": "stream",
     "text": [
      "4_testing_IMG_8277.jpg\n",
      "27.031354236157437\n"
     ]
    },
    {
     "name": "stderr",
     "output_type": "stream",
     "text": [
      "C:\\Users\\miles\\anaconda3\\lib\\site-packages\\skimage\\exposure\\exposure.py:181: UserWarning: This might be a color image. The histogram will be computed on the flattened image. You can instead apply this function to each color channel.\n",
      "  hist, bin_centers = histogram(image, nbins)\n",
      "<ipython-input-12-0207015e6c4e>:96: DeprecationWarning: elementwise comparison failed; this will raise an error in the future.\n",
      "  if slices[i] in top_five_slices:\n",
      "<ipython-input-36-f0668ec24f0f>:15: UserWarning: Any labeled images will be returned as a boolean array. Did you mean to use a boolean array?\n",
      "  b2 = skimage.morphology.remove_small_holes(b1,area_threshold=10000)\n"
     ]
    },
    {
     "name": "stdout",
     "output_type": "stream",
     "text": [
      "0_testing_IMG_8280.jpg\n",
      "29.19334456613311\n"
     ]
    },
    {
     "name": "stderr",
     "output_type": "stream",
     "text": [
      "<ipython-input-36-f0668ec24f0f>:15: UserWarning: Any labeled images will be returned as a boolean array. Did you mean to use a boolean array?\n",
      "  b2 = skimage.morphology.remove_small_holes(b1,area_threshold=10000)\n"
     ]
    },
    {
     "name": "stdout",
     "output_type": "stream",
     "text": [
      "1_testing_IMG_8280.jpg\n",
      "25.23174603174603\n"
     ]
    },
    {
     "name": "stderr",
     "output_type": "stream",
     "text": [
      "<ipython-input-36-f0668ec24f0f>:15: UserWarning: Any labeled images will be returned as a boolean array. Did you mean to use a boolean array?\n",
      "  b2 = skimage.morphology.remove_small_holes(b1,area_threshold=10000)\n"
     ]
    },
    {
     "name": "stdout",
     "output_type": "stream",
     "text": [
      "2_testing_IMG_8280.jpg\n",
      "42.907762938230384\n"
     ]
    },
    {
     "name": "stderr",
     "output_type": "stream",
     "text": [
      "<ipython-input-36-f0668ec24f0f>:15: UserWarning: Any labeled images will be returned as a boolean array. Did you mean to use a boolean array?\n",
      "  b2 = skimage.morphology.remove_small_holes(b1,area_threshold=10000)\n"
     ]
    },
    {
     "name": "stdout",
     "output_type": "stream",
     "text": [
      "3_testing_IMG_8280.jpg\n",
      "44.17339449541284\n"
     ]
    },
    {
     "name": "stderr",
     "output_type": "stream",
     "text": [
      "<ipython-input-36-f0668ec24f0f>:15: UserWarning: Any labeled images will be returned as a boolean array. Did you mean to use a boolean array?\n",
      "  b2 = skimage.morphology.remove_small_holes(b1,area_threshold=10000)\n"
     ]
    },
    {
     "name": "stdout",
     "output_type": "stream",
     "text": [
      "4_testing_IMG_8280.jpg\n",
      "34.087751371115175\n"
     ]
    },
    {
     "name": "stderr",
     "output_type": "stream",
     "text": [
      "C:\\Users\\miles\\anaconda3\\lib\\site-packages\\skimage\\exposure\\exposure.py:181: UserWarning: This might be a color image. The histogram will be computed on the flattened image. You can instead apply this function to each color channel.\n",
      "  hist, bin_centers = histogram(image, nbins)\n",
      "<ipython-input-12-0207015e6c4e>:96: DeprecationWarning: elementwise comparison failed; this will raise an error in the future.\n",
      "  if slices[i] in top_five_slices:\n",
      "<ipython-input-36-f0668ec24f0f>:15: UserWarning: Any labeled images will be returned as a boolean array. Did you mean to use a boolean array?\n",
      "  b2 = skimage.morphology.remove_small_holes(b1,area_threshold=10000)\n"
     ]
    },
    {
     "name": "stdout",
     "output_type": "stream",
     "text": [
      "0_testing_IMG_8333.jpg\n",
      "18.992120814182535\n"
     ]
    },
    {
     "name": "stderr",
     "output_type": "stream",
     "text": [
      "<ipython-input-36-f0668ec24f0f>:15: UserWarning: Any labeled images will be returned as a boolean array. Did you mean to use a boolean array?\n",
      "  b2 = skimage.morphology.remove_small_holes(b1,area_threshold=10000)\n"
     ]
    },
    {
     "name": "stdout",
     "output_type": "stream",
     "text": [
      "1_testing_IMG_8333.jpg\n",
      "20.626463700234194\n"
     ]
    },
    {
     "name": "stderr",
     "output_type": "stream",
     "text": [
      "<ipython-input-36-f0668ec24f0f>:15: UserWarning: Any labeled images will be returned as a boolean array. Did you mean to use a boolean array?\n",
      "  b2 = skimage.morphology.remove_small_holes(b1,area_threshold=10000)\n"
     ]
    },
    {
     "name": "stdout",
     "output_type": "stream",
     "text": [
      "2_testing_IMG_8333.jpg\n",
      "17.939607843137257\n"
     ]
    },
    {
     "name": "stderr",
     "output_type": "stream",
     "text": [
      "<ipython-input-36-f0668ec24f0f>:15: UserWarning: Any labeled images will be returned as a boolean array. Did you mean to use a boolean array?\n",
      "  b2 = skimage.morphology.remove_small_holes(b1,area_threshold=10000)\n"
     ]
    },
    {
     "name": "stdout",
     "output_type": "stream",
     "text": [
      "3_testing_IMG_8333.jpg\n",
      "23.168374816983896\n"
     ]
    },
    {
     "name": "stderr",
     "output_type": "stream",
     "text": [
      "<ipython-input-36-f0668ec24f0f>:15: UserWarning: Any labeled images will be returned as a boolean array. Did you mean to use a boolean array?\n",
      "  b2 = skimage.morphology.remove_small_holes(b1,area_threshold=10000)\n"
     ]
    },
    {
     "name": "stdout",
     "output_type": "stream",
     "text": [
      "4_testing_IMG_8333.jpg\n",
      "15.915557404326123\n"
     ]
    },
    {
     "name": "stderr",
     "output_type": "stream",
     "text": [
      "C:\\Users\\miles\\anaconda3\\lib\\site-packages\\skimage\\exposure\\exposure.py:181: UserWarning: This might be a color image. The histogram will be computed on the flattened image. You can instead apply this function to each color channel.\n",
      "  hist, bin_centers = histogram(image, nbins)\n",
      "<ipython-input-12-0207015e6c4e>:96: DeprecationWarning: elementwise comparison failed; this will raise an error in the future.\n",
      "  if slices[i] in top_five_slices:\n",
      "<ipython-input-36-f0668ec24f0f>:15: UserWarning: Any labeled images will be returned as a boolean array. Did you mean to use a boolean array?\n",
      "  b2 = skimage.morphology.remove_small_holes(b1,area_threshold=10000)\n"
     ]
    },
    {
     "name": "stdout",
     "output_type": "stream",
     "text": [
      "0_testing_IMG_8338.jpg\n",
      "39.100152905198776\n"
     ]
    },
    {
     "name": "stderr",
     "output_type": "stream",
     "text": [
      "<ipython-input-36-f0668ec24f0f>:15: UserWarning: Any labeled images will be returned as a boolean array. Did you mean to use a boolean array?\n",
      "  b2 = skimage.morphology.remove_small_holes(b1,area_threshold=10000)\n"
     ]
    },
    {
     "name": "stdout",
     "output_type": "stream",
     "text": [
      "1_testing_IMG_8338.jpg\n",
      "8.360877985797288\n"
     ]
    },
    {
     "name": "stderr",
     "output_type": "stream",
     "text": [
      "<ipython-input-36-f0668ec24f0f>:15: UserWarning: Any labeled images will be returned as a boolean array. Did you mean to use a boolean array?\n",
      "  b2 = skimage.morphology.remove_small_holes(b1,area_threshold=10000)\n"
     ]
    },
    {
     "name": "stdout",
     "output_type": "stream",
     "text": [
      "2_testing_IMG_8338.jpg\n",
      "8.342563291139241\n"
     ]
    },
    {
     "name": "stderr",
     "output_type": "stream",
     "text": [
      "<ipython-input-36-f0668ec24f0f>:15: UserWarning: Any labeled images will be returned as a boolean array. Did you mean to use a boolean array?\n",
      "  b2 = skimage.morphology.remove_small_holes(b1,area_threshold=10000)\n"
     ]
    },
    {
     "name": "stdout",
     "output_type": "stream",
     "text": [
      "3_testing_IMG_8338.jpg\n",
      "30.6652739090065\n"
     ]
    },
    {
     "name": "stderr",
     "output_type": "stream",
     "text": [
      "<ipython-input-36-f0668ec24f0f>:15: UserWarning: Any labeled images will be returned as a boolean array. Did you mean to use a boolean array?\n",
      "  b2 = skimage.morphology.remove_small_holes(b1,area_threshold=10000)\n"
     ]
    },
    {
     "name": "stdout",
     "output_type": "stream",
     "text": [
      "4_testing_IMG_8338.jpg\n",
      "12.54602510460251\n"
     ]
    },
    {
     "name": "stderr",
     "output_type": "stream",
     "text": [
      "C:\\Users\\miles\\anaconda3\\lib\\site-packages\\skimage\\exposure\\exposure.py:181: UserWarning: This might be a color image. The histogram will be computed on the flattened image. You can instead apply this function to each color channel.\n",
      "  hist, bin_centers = histogram(image, nbins)\n",
      "<ipython-input-12-0207015e6c4e>:96: DeprecationWarning: elementwise comparison failed; this will raise an error in the future.\n",
      "  if slices[i] in top_five_slices:\n",
      "<ipython-input-36-f0668ec24f0f>:15: UserWarning: Any labeled images will be returned as a boolean array. Did you mean to use a boolean array?\n",
      "  b2 = skimage.morphology.remove_small_holes(b1,area_threshold=10000)\n"
     ]
    },
    {
     "name": "stdout",
     "output_type": "stream",
     "text": [
      "0_testing_IMG_8342.jpg\n",
      "11.002843216896832\n"
     ]
    },
    {
     "name": "stderr",
     "output_type": "stream",
     "text": [
      "<ipython-input-36-f0668ec24f0f>:15: UserWarning: Any labeled images will be returned as a boolean array. Did you mean to use a boolean array?\n",
      "  b2 = skimage.morphology.remove_small_holes(b1,area_threshold=10000)\n"
     ]
    },
    {
     "name": "stdout",
     "output_type": "stream",
     "text": [
      "1_testing_IMG_8342.jpg\n",
      "9.414768806073154\n"
     ]
    },
    {
     "name": "stderr",
     "output_type": "stream",
     "text": [
      "<ipython-input-36-f0668ec24f0f>:15: UserWarning: Any labeled images will be returned as a boolean array. Did you mean to use a boolean array?\n",
      "  b2 = skimage.morphology.remove_small_holes(b1,area_threshold=10000)\n"
     ]
    },
    {
     "name": "stdout",
     "output_type": "stream",
     "text": [
      "2_testing_IMG_8342.jpg\n",
      "27.931150550795593\n"
     ]
    },
    {
     "name": "stderr",
     "output_type": "stream",
     "text": [
      "<ipython-input-36-f0668ec24f0f>:15: UserWarning: Any labeled images will be returned as a boolean array. Did you mean to use a boolean array?\n",
      "  b2 = skimage.morphology.remove_small_holes(b1,area_threshold=10000)\n"
     ]
    },
    {
     "name": "stdout",
     "output_type": "stream",
     "text": [
      "3_testing_IMG_8342.jpg\n",
      "19.273324572930356\n"
     ]
    },
    {
     "name": "stderr",
     "output_type": "stream",
     "text": [
      "<ipython-input-36-f0668ec24f0f>:15: UserWarning: Any labeled images will be returned as a boolean array. Did you mean to use a boolean array?\n",
      "  b2 = skimage.morphology.remove_small_holes(b1,area_threshold=10000)\n"
     ]
    },
    {
     "name": "stdout",
     "output_type": "stream",
     "text": [
      "4_testing_IMG_8342.jpg\n",
      "10.151724137931035\n"
     ]
    },
    {
     "name": "stderr",
     "output_type": "stream",
     "text": [
      "C:\\Users\\miles\\anaconda3\\lib\\site-packages\\skimage\\exposure\\exposure.py:181: UserWarning: This might be a color image. The histogram will be computed on the flattened image. You can instead apply this function to each color channel.\n",
      "  hist, bin_centers = histogram(image, nbins)\n",
      "<ipython-input-12-0207015e6c4e>:96: DeprecationWarning: elementwise comparison failed; this will raise an error in the future.\n",
      "  if slices[i] in top_five_slices:\n",
      "<ipython-input-36-f0668ec24f0f>:14: UserWarning: Only one label was provided to `remove_small_objects`. Did you mean to use a boolean array?\n",
      "  b1 = remove_small_objects(top_five[i],min_size=50000)\n",
      "<ipython-input-36-f0668ec24f0f>:15: UserWarning: Any labeled images will be returned as a boolean array. Did you mean to use a boolean array?\n",
      "  b2 = skimage.morphology.remove_small_holes(b1,area_threshold=10000)\n"
     ]
    },
    {
     "name": "stdout",
     "output_type": "stream",
     "text": [
      "0_testing_IMG_8343.jpg\n",
      "20.464673913043477\n"
     ]
    },
    {
     "name": "stderr",
     "output_type": "stream",
     "text": [
      "<ipython-input-36-f0668ec24f0f>:15: UserWarning: Any labeled images will be returned as a boolean array. Did you mean to use a boolean array?\n",
      "  b2 = skimage.morphology.remove_small_holes(b1,area_threshold=10000)\n"
     ]
    },
    {
     "name": "stdout",
     "output_type": "stream",
     "text": [
      "1_testing_IMG_8343.jpg\n",
      "19.901883830455258\n"
     ]
    },
    {
     "name": "stderr",
     "output_type": "stream",
     "text": [
      "<ipython-input-36-f0668ec24f0f>:15: UserWarning: Any labeled images will be returned as a boolean array. Did you mean to use a boolean array?\n",
      "  b2 = skimage.morphology.remove_small_holes(b1,area_threshold=10000)\n"
     ]
    },
    {
     "name": "stdout",
     "output_type": "stream",
     "text": [
      "2_testing_IMG_8343.jpg\n",
      "8.26597510373444\n"
     ]
    },
    {
     "name": "stderr",
     "output_type": "stream",
     "text": [
      "<ipython-input-36-f0668ec24f0f>:15: UserWarning: Any labeled images will be returned as a boolean array. Did you mean to use a boolean array?\n",
      "  b2 = skimage.morphology.remove_small_holes(b1,area_threshold=10000)\n"
     ]
    },
    {
     "name": "stdout",
     "output_type": "stream",
     "text": [
      "3_testing_IMG_8343.jpg\n",
      "16.118819188191882\n"
     ]
    },
    {
     "name": "stderr",
     "output_type": "stream",
     "text": [
      "<ipython-input-36-f0668ec24f0f>:15: UserWarning: Any labeled images will be returned as a boolean array. Did you mean to use a boolean array?\n",
      "  b2 = skimage.morphology.remove_small_holes(b1,area_threshold=10000)\n"
     ]
    },
    {
     "name": "stdout",
     "output_type": "stream",
     "text": [
      "4_testing_IMG_8343.jpg\n",
      "10.407672849915683\n"
     ]
    },
    {
     "name": "stderr",
     "output_type": "stream",
     "text": [
      "C:\\Users\\miles\\anaconda3\\lib\\site-packages\\skimage\\exposure\\exposure.py:181: UserWarning: This might be a color image. The histogram will be computed on the flattened image. You can instead apply this function to each color channel.\n",
      "  hist, bin_centers = histogram(image, nbins)\n",
      "<ipython-input-12-0207015e6c4e>:96: DeprecationWarning: elementwise comparison failed; this will raise an error in the future.\n",
      "  if slices[i] in top_five_slices:\n",
      "<ipython-input-36-f0668ec24f0f>:14: UserWarning: Only one label was provided to `remove_small_objects`. Did you mean to use a boolean array?\n",
      "  b1 = remove_small_objects(top_five[i],min_size=50000)\n",
      "<ipython-input-36-f0668ec24f0f>:15: UserWarning: Any labeled images will be returned as a boolean array. Did you mean to use a boolean array?\n",
      "  b2 = skimage.morphology.remove_small_holes(b1,area_threshold=10000)\n"
     ]
    },
    {
     "name": "stdout",
     "output_type": "stream",
     "text": [
      "0_testing_IMG_8312.jpg\n",
      "14.272147147147146\n"
     ]
    },
    {
     "name": "stderr",
     "output_type": "stream",
     "text": [
      "<ipython-input-36-f0668ec24f0f>:15: UserWarning: Any labeled images will be returned as a boolean array. Did you mean to use a boolean array?\n",
      "  b2 = skimage.morphology.remove_small_holes(b1,area_threshold=10000)\n"
     ]
    },
    {
     "name": "stdout",
     "output_type": "stream",
     "text": [
      "1_testing_IMG_8312.jpg\n",
      "20.700848111025444\n"
     ]
    },
    {
     "name": "stderr",
     "output_type": "stream",
     "text": [
      "<ipython-input-36-f0668ec24f0f>:15: UserWarning: Any labeled images will be returned as a boolean array. Did you mean to use a boolean array?\n",
      "  b2 = skimage.morphology.remove_small_holes(b1,area_threshold=10000)\n"
     ]
    },
    {
     "name": "stdout",
     "output_type": "stream",
     "text": [
      "2_testing_IMG_8312.jpg\n",
      "15.194921316165951\n"
     ]
    },
    {
     "name": "stderr",
     "output_type": "stream",
     "text": [
      "<ipython-input-36-f0668ec24f0f>:15: UserWarning: Any labeled images will be returned as a boolean array. Did you mean to use a boolean array?\n",
      "  b2 = skimage.morphology.remove_small_holes(b1,area_threshold=10000)\n"
     ]
    },
    {
     "name": "stdout",
     "output_type": "stream",
     "text": [
      "3_testing_IMG_8312.jpg\n",
      "32.23184568835099\n"
     ]
    },
    {
     "name": "stderr",
     "output_type": "stream",
     "text": [
      "<ipython-input-36-f0668ec24f0f>:15: UserWarning: Any labeled images will be returned as a boolean array. Did you mean to use a boolean array?\n",
      "  b2 = skimage.morphology.remove_small_holes(b1,area_threshold=10000)\n"
     ]
    },
    {
     "name": "stdout",
     "output_type": "stream",
     "text": [
      "4_testing_IMG_8312.jpg\n",
      "36.96236933797909\n"
     ]
    },
    {
     "name": "stderr",
     "output_type": "stream",
     "text": [
      "C:\\Users\\miles\\anaconda3\\lib\\site-packages\\skimage\\exposure\\exposure.py:181: UserWarning: This might be a color image. The histogram will be computed on the flattened image. You can instead apply this function to each color channel.\n",
      "  hist, bin_centers = histogram(image, nbins)\n",
      "<ipython-input-12-0207015e6c4e>:96: DeprecationWarning: elementwise comparison failed; this will raise an error in the future.\n",
      "  if slices[i] in top_five_slices:\n",
      "<ipython-input-36-f0668ec24f0f>:15: UserWarning: Any labeled images will be returned as a boolean array. Did you mean to use a boolean array?\n",
      "  b2 = skimage.morphology.remove_small_holes(b1,area_threshold=10000)\n"
     ]
    },
    {
     "name": "stdout",
     "output_type": "stream",
     "text": [
      "0_testing_IMG_8284.jpg\n",
      "12.707259953161593\n"
     ]
    },
    {
     "name": "stderr",
     "output_type": "stream",
     "text": [
      "<ipython-input-36-f0668ec24f0f>:15: UserWarning: Any labeled images will be returned as a boolean array. Did you mean to use a boolean array?\n",
      "  b2 = skimage.morphology.remove_small_holes(b1,area_threshold=10000)\n"
     ]
    },
    {
     "name": "stdout",
     "output_type": "stream",
     "text": [
      "1_testing_IMG_8284.jpg\n",
      "19.274963820549928\n"
     ]
    },
    {
     "name": "stderr",
     "output_type": "stream",
     "text": [
      "<ipython-input-36-f0668ec24f0f>:15: UserWarning: Any labeled images will be returned as a boolean array. Did you mean to use a boolean array?\n",
      "  b2 = skimage.morphology.remove_small_holes(b1,area_threshold=10000)\n"
     ]
    },
    {
     "name": "stdout",
     "output_type": "stream",
     "text": [
      "2_testing_IMG_8284.jpg\n",
      "10.708484408992023\n"
     ]
    },
    {
     "name": "stderr",
     "output_type": "stream",
     "text": [
      "<ipython-input-36-f0668ec24f0f>:15: UserWarning: Any labeled images will be returned as a boolean array. Did you mean to use a boolean array?\n",
      "  b2 = skimage.morphology.remove_small_holes(b1,area_threshold=10000)\n"
     ]
    },
    {
     "name": "stdout",
     "output_type": "stream",
     "text": [
      "3_testing_IMG_8284.jpg\n",
      "9.23221586263287\n"
     ]
    },
    {
     "name": "stderr",
     "output_type": "stream",
     "text": [
      "<ipython-input-36-f0668ec24f0f>:15: UserWarning: Any labeled images will be returned as a boolean array. Did you mean to use a boolean array?\n",
      "  b2 = skimage.morphology.remove_small_holes(b1,area_threshold=10000)\n"
     ]
    },
    {
     "name": "stdout",
     "output_type": "stream",
     "text": [
      "4_testing_IMG_8284.jpg\n",
      "15.707116104868915\n"
     ]
    },
    {
     "name": "stderr",
     "output_type": "stream",
     "text": [
      "C:\\Users\\miles\\anaconda3\\lib\\site-packages\\skimage\\exposure\\exposure.py:181: UserWarning: This might be a color image. The histogram will be computed on the flattened image. You can instead apply this function to each color channel.\n",
      "  hist, bin_centers = histogram(image, nbins)\n",
      "<ipython-input-12-0207015e6c4e>:96: DeprecationWarning: elementwise comparison failed; this will raise an error in the future.\n",
      "  if slices[i] in top_five_slices:\n",
      "<ipython-input-36-f0668ec24f0f>:15: UserWarning: Any labeled images will be returned as a boolean array. Did you mean to use a boolean array?\n",
      "  b2 = skimage.morphology.remove_small_holes(b1,area_threshold=10000)\n"
     ]
    },
    {
     "name": "stdout",
     "output_type": "stream",
     "text": [
      "0_testing_IMG_8349.jpg\n",
      "15.88162951575711\n"
     ]
    },
    {
     "name": "stderr",
     "output_type": "stream",
     "text": [
      "<ipython-input-36-f0668ec24f0f>:15: UserWarning: Any labeled images will be returned as a boolean array. Did you mean to use a boolean array?\n",
      "  b2 = skimage.morphology.remove_small_holes(b1,area_threshold=10000)\n"
     ]
    },
    {
     "name": "stdout",
     "output_type": "stream",
     "text": [
      "1_testing_IMG_8349.jpg\n",
      "12.344286781179985\n"
     ]
    },
    {
     "name": "stderr",
     "output_type": "stream",
     "text": [
      "<ipython-input-36-f0668ec24f0f>:15: UserWarning: Any labeled images will be returned as a boolean array. Did you mean to use a boolean array?\n",
      "  b2 = skimage.morphology.remove_small_holes(b1,area_threshold=10000)\n"
     ]
    },
    {
     "name": "stdout",
     "output_type": "stream",
     "text": [
      "2_testing_IMG_8349.jpg\n",
      "11.991830065359476\n"
     ]
    },
    {
     "name": "stderr",
     "output_type": "stream",
     "text": [
      "<ipython-input-36-f0668ec24f0f>:15: UserWarning: Any labeled images will be returned as a boolean array. Did you mean to use a boolean array?\n",
      "  b2 = skimage.morphology.remove_small_holes(b1,area_threshold=10000)\n"
     ]
    },
    {
     "name": "stdout",
     "output_type": "stream",
     "text": [
      "3_testing_IMG_8349.jpg\n",
      "11.165701881331405\n"
     ]
    },
    {
     "name": "stderr",
     "output_type": "stream",
     "text": [
      "<ipython-input-36-f0668ec24f0f>:15: UserWarning: Any labeled images will be returned as a boolean array. Did you mean to use a boolean array?\n",
      "  b2 = skimage.morphology.remove_small_holes(b1,area_threshold=10000)\n"
     ]
    },
    {
     "name": "stdout",
     "output_type": "stream",
     "text": [
      "4_testing_IMG_8349.jpg\n",
      "11.888167938931298\n"
     ]
    },
    {
     "data": {
      "text/plain": [
       "<Figure size 432x288 with 0 Axes>"
      ]
     },
     "metadata": {},
     "output_type": "display_data"
    }
   ],
   "source": [
    "fileNames = ['IMG_8277.jpg','IMG_8280.jpg','IMG_8333.jpg','IMG_8338.jpg','IMG_8342.jpg','IMG_8343.jpg','IMG_8312.jpg','IMG_8284.jpg','IMG_8349.jpg']\n",
    "\n",
    "for fileName in fileNames:\n",
    "    newFileName = \"testing_\" + fileName\n",
    "    \n",
    "    image = imread(newFileName)\n",
    "    image = exposure.equalize_hist(image)\n",
    "    \n",
    "    top_five = segment_and_crop_loop(image)\n",
    "    #Get horizontal line through middle of photo\n",
    "    for i in range(5):\n",
    "        #Clear edges of image from nearby corncobs\n",
    "        #top_five_eroded = ndimage.binary_erosion(top_five[i],iterations = 5)\n",
    "        b1 = remove_small_objects(top_five[i],min_size=50000)\n",
    "        b2 = skimage.morphology.remove_small_holes(b1,area_threshold=10000)\n",
    "        #Get mid-line of cob (i.e. number of rows/2)\n",
    "        midPicture = b2.shape[0]/2\n",
    "\n",
    "    #What parts of photo are corn?\n",
    "        indices = np.where(b2 == 1)\n",
    "    \n",
    "    #If 1's are not corn, then \n",
    "        if indices[0].size == 0:\n",
    "            indices = np.where(b2 == 0)\n",
    "\n",
    "    #For each column, what are the tallest and lowest rows with segmented out pixels?\n",
    "        numCols = b2.shape[1]\n",
    "\n",
    "    #Subset all rows associated with particular column\n",
    "        cornRows = indices[0]\n",
    "        cornCols = indices[1]\n",
    "        cornColsUq = np.unique(indices[1])\n",
    "\n",
    "    #indices[np.where(indices):, :]\n",
    "        midCornPoints = []\n",
    "        for cornCol in cornColsUq:\n",
    "            potRows = cornRows[np.where(cornCols == cornCol)]\n",
    "            minRow = min(potRows)\n",
    "            maxRow = max(potRows)\n",
    "            midCorn = (maxRow + minRow)/2\n",
    "            midCornPoints.append(midCorn)\n",
    "    \n",
    "        a = [abs(x - midPicture) for x in midCornPoints] \n",
    "        sym = sum(a)/numCols\n",
    "        print(str(i) + \"_\" + newFileName)\n",
    "        print(sym)\n",
    "        \n",
    "        plt.imshow(b2)\n",
    "        plt.plot(np.repeat(midPicture, len(cornColsUq)))\n",
    "        plt.plot(np.asarray(cornColsUq), np.asarray(midCornPoints))\n",
    "        plt.savefig(str(i) + \"_\" + newFileName)\n",
    "        plt.clf()"
   ]
  },
  {
   "cell_type": "markdown",
   "metadata": {},
   "source": [
    "# Measure straightness of kernel rows "
   ]
  },
  {
   "cell_type": "code",
   "execution_count": 28,
   "metadata": {},
   "outputs": [
    {
     "name": "stderr",
     "output_type": "stream",
     "text": [
      "<ipython-input-12-0207015e6c4e>:96: DeprecationWarning: elementwise comparison failed; this will raise an error in the future.\n",
      "  if slices[i] in top_five_slices:\n",
      "Lossy conversion from int32 to uint8. Range [0, 255]. Convert image to uint8 prior to saving to suppress this warning.\n",
      "Lossy conversion from int32 to uint8. Range [0, 255]. Convert image to uint8 prior to saving to suppress this warning.\n"
     ]
    },
    {
     "name": "stdout",
     "output_type": "stream",
     "text": [
      "IMG_8277.jpg\n",
      "0.9750623245767689\n",
      "IMG_8277.jpg\n",
      "0.9867738045969116\n"
     ]
    },
    {
     "name": "stderr",
     "output_type": "stream",
     "text": [
      "Lossy conversion from int32 to uint8. Range [0, 255]. Convert image to uint8 prior to saving to suppress this warning.\n",
      "Lossy conversion from int32 to uint8. Range [0, 255]. Convert image to uint8 prior to saving to suppress this warning.\n"
     ]
    },
    {
     "name": "stdout",
     "output_type": "stream",
     "text": [
      "IMG_8277.jpg\n",
      "0.9943883839907812\n",
      "IMG_8277.jpg\n",
      "0.9799962778627715\n"
     ]
    },
    {
     "name": "stderr",
     "output_type": "stream",
     "text": [
      "Lossy conversion from int32 to uint8. Range [0, 255]. Convert image to uint8 prior to saving to suppress this warning.\n"
     ]
    },
    {
     "name": "stdout",
     "output_type": "stream",
     "text": [
      "IMG_8277.jpg\n",
      "0.9627095033482059\n"
     ]
    },
    {
     "name": "stderr",
     "output_type": "stream",
     "text": [
      "Lossy conversion from int32 to uint8. Range [0, 255]. Convert image to uint8 prior to saving to suppress this warning.\n",
      "Lossy conversion from int32 to uint8. Range [0, 255]. Convert image to uint8 prior to saving to suppress this warning.\n"
     ]
    },
    {
     "name": "stdout",
     "output_type": "stream",
     "text": [
      "IMG_8280.jpg\n",
      "0.9679978849774453\n",
      "IMG_8280.jpg\n",
      "0.9924214047432948\n"
     ]
    },
    {
     "name": "stderr",
     "output_type": "stream",
     "text": [
      "Lossy conversion from int32 to uint8. Range [0, 255]. Convert image to uint8 prior to saving to suppress this warning.\n",
      "Lossy conversion from int32 to uint8. Range [0, 255]. Convert image to uint8 prior to saving to suppress this warning.\n"
     ]
    },
    {
     "name": "stdout",
     "output_type": "stream",
     "text": [
      "IMG_8280.jpg\n",
      "0.9850685530731956\n",
      "IMG_8280.jpg\n",
      "0.9921341248754995\n"
     ]
    },
    {
     "name": "stderr",
     "output_type": "stream",
     "text": [
      "Lossy conversion from int32 to uint8. Range [0, 255]. Convert image to uint8 prior to saving to suppress this warning.\n"
     ]
    },
    {
     "name": "stdout",
     "output_type": "stream",
     "text": [
      "IMG_8280.jpg\n",
      "0.9466447397708031\n"
     ]
    },
    {
     "name": "stderr",
     "output_type": "stream",
     "text": [
      "Lossy conversion from int32 to uint8. Range [0, 255]. Convert image to uint8 prior to saving to suppress this warning.\n",
      "Lossy conversion from int32 to uint8. Range [0, 255]. Convert image to uint8 prior to saving to suppress this warning.\n"
     ]
    },
    {
     "name": "stdout",
     "output_type": "stream",
     "text": [
      "IMG_8333.jpg\n",
      "0.997689228532454\n",
      "IMG_8333.jpg\n",
      "0.9887962242433832\n"
     ]
    },
    {
     "name": "stderr",
     "output_type": "stream",
     "text": [
      "Lossy conversion from int32 to uint8. Range [0, 255]. Convert image to uint8 prior to saving to suppress this warning.\n",
      "Lossy conversion from int32 to uint8. Range [0, 255]. Convert image to uint8 prior to saving to suppress this warning.\n"
     ]
    },
    {
     "name": "stdout",
     "output_type": "stream",
     "text": [
      "IMG_8333.jpg\n",
      "0.9420878391417088\n"
     ]
    },
    {
     "name": "stderr",
     "output_type": "stream",
     "text": [
      "Lossy conversion from int32 to uint8. Range [0, 255]. Convert image to uint8 prior to saving to suppress this warning.\n"
     ]
    },
    {
     "name": "stdout",
     "output_type": "stream",
     "text": [
      "IMG_8333.jpg\n",
      "0.988073864906906\n",
      "IMG_8333.jpg\n",
      "0.9519034371621221\n"
     ]
    },
    {
     "name": "stderr",
     "output_type": "stream",
     "text": [
      "Lossy conversion from int32 to uint8. Range [0, 255]. Convert image to uint8 prior to saving to suppress this warning.\n",
      "Lossy conversion from int32 to uint8. Range [0, 255]. Convert image to uint8 prior to saving to suppress this warning.\n"
     ]
    },
    {
     "name": "stdout",
     "output_type": "stream",
     "text": [
      "IMG_8338.jpg\n",
      "0.999928690272161\n",
      "IMG_8338.jpg\n",
      "0.9708932992951338\n"
     ]
    },
    {
     "name": "stderr",
     "output_type": "stream",
     "text": [
      "Lossy conversion from int32 to uint8. Range [0, 255]. Convert image to uint8 prior to saving to suppress this warning.\n",
      "Lossy conversion from int32 to uint8. Range [0, 255]. Convert image to uint8 prior to saving to suppress this warning.\n"
     ]
    },
    {
     "name": "stdout",
     "output_type": "stream",
     "text": [
      "IMG_8338.jpg\n",
      "0.9972605405193087\n",
      "IMG_8338.jpg\n",
      "0.979844140677836\n"
     ]
    },
    {
     "name": "stderr",
     "output_type": "stream",
     "text": [
      "Lossy conversion from int32 to uint8. Range [0, 255]. Convert image to uint8 prior to saving to suppress this warning.\n"
     ]
    },
    {
     "name": "stdout",
     "output_type": "stream",
     "text": [
      "IMG_8338.jpg\n",
      "0.9769691190475105\n"
     ]
    },
    {
     "name": "stderr",
     "output_type": "stream",
     "text": [
      "Lossy conversion from int32 to uint8. Range [0, 255]. Convert image to uint8 prior to saving to suppress this warning.\n",
      "Lossy conversion from int32 to uint8. Range [0, 255]. Convert image to uint8 prior to saving to suppress this warning.\n"
     ]
    },
    {
     "name": "stdout",
     "output_type": "stream",
     "text": [
      "IMG_8342.jpg\n",
      "0.8928985262503714\n",
      "IMG_8342.jpg\n",
      "0.9386338214317143\n"
     ]
    },
    {
     "name": "stderr",
     "output_type": "stream",
     "text": [
      "Lossy conversion from int32 to uint8. Range [0, 255]. Convert image to uint8 prior to saving to suppress this warning.\n",
      "Lossy conversion from int32 to uint8. Range [0, 255]. Convert image to uint8 prior to saving to suppress this warning.\n"
     ]
    },
    {
     "name": "stdout",
     "output_type": "stream",
     "text": [
      "IMG_8342.jpg\n",
      "0.8560316194559883\n",
      "IMG_8342.jpg\n",
      "0.9134213851875506\n"
     ]
    },
    {
     "name": "stderr",
     "output_type": "stream",
     "text": [
      "Lossy conversion from int32 to uint8. Range [0, 255]. Convert image to uint8 prior to saving to suppress this warning.\n"
     ]
    },
    {
     "name": "stdout",
     "output_type": "stream",
     "text": [
      "IMG_8342.jpg\n",
      "0.8842943567739031\n"
     ]
    },
    {
     "name": "stderr",
     "output_type": "stream",
     "text": [
      "Lossy conversion from int32 to uint8. Range [0, 255]. Convert image to uint8 prior to saving to suppress this warning.\n",
      "Lossy conversion from int32 to uint8. Range [0, 255]. Convert image to uint8 prior to saving to suppress this warning.\n"
     ]
    },
    {
     "name": "stdout",
     "output_type": "stream",
     "text": [
      "IMG_8343.jpg\n",
      "0.8848985195057305\n",
      "IMG_8343.jpg\n",
      "0.8071692966487855\n"
     ]
    },
    {
     "name": "stderr",
     "output_type": "stream",
     "text": [
      "Lossy conversion from int32 to uint8. Range [0, 255]. Convert image to uint8 prior to saving to suppress this warning.\n",
      "Lossy conversion from int32 to uint8. Range [0, 255]. Convert image to uint8 prior to saving to suppress this warning.\n"
     ]
    },
    {
     "name": "stdout",
     "output_type": "stream",
     "text": [
      "IMG_8343.jpg\n",
      "0.7551352981177353\n",
      "IMG_8343.jpg\n",
      "0.7941751258523077\n"
     ]
    },
    {
     "name": "stderr",
     "output_type": "stream",
     "text": [
      "Lossy conversion from int32 to uint8. Range [0, 255]. Convert image to uint8 prior to saving to suppress this warning.\n"
     ]
    },
    {
     "name": "stdout",
     "output_type": "stream",
     "text": [
      "IMG_8343.jpg\n",
      "0.874361707834629\n"
     ]
    },
    {
     "name": "stderr",
     "output_type": "stream",
     "text": [
      "Lossy conversion from int32 to uint8. Range [0, 255]. Convert image to uint8 prior to saving to suppress this warning.\n",
      "Lossy conversion from int32 to uint8. Range [0, 255]. Convert image to uint8 prior to saving to suppress this warning.\n"
     ]
    },
    {
     "name": "stdout",
     "output_type": "stream",
     "text": [
      "IMG_8312.jpg\n",
      "0.996543613879592\n",
      "IMG_8312.jpg\n",
      "0.9894601542396335\n"
     ]
    },
    {
     "name": "stderr",
     "output_type": "stream",
     "text": [
      "Lossy conversion from int32 to uint8. Range [0, 255]. Convert image to uint8 prior to saving to suppress this warning.\n",
      "Lossy conversion from int32 to uint8. Range [0, 255]. Convert image to uint8 prior to saving to suppress this warning.\n"
     ]
    },
    {
     "name": "stdout",
     "output_type": "stream",
     "text": [
      "IMG_8312.jpg\n",
      "0.9982049015197672\n",
      "IMG_8312.jpg\n",
      "0.9931648895105999\n"
     ]
    },
    {
     "name": "stderr",
     "output_type": "stream",
     "text": [
      "Lossy conversion from int32 to uint8. Range [0, 255]. Convert image to uint8 prior to saving to suppress this warning.\n"
     ]
    },
    {
     "name": "stdout",
     "output_type": "stream",
     "text": [
      "IMG_8312.jpg\n",
      "0.9999369357491962\n"
     ]
    },
    {
     "name": "stderr",
     "output_type": "stream",
     "text": [
      "Lossy conversion from int32 to uint8. Range [0, 255]. Convert image to uint8 prior to saving to suppress this warning.\n",
      "Lossy conversion from int32 to uint8. Range [0, 255]. Convert image to uint8 prior to saving to suppress this warning.\n"
     ]
    },
    {
     "name": "stdout",
     "output_type": "stream",
     "text": [
      "IMG_8284.jpg\n",
      "0.7691835368183427\n",
      "IMG_8284.jpg\n",
      "0.8185950135639719\n"
     ]
    },
    {
     "name": "stderr",
     "output_type": "stream",
     "text": [
      "Lossy conversion from int32 to uint8. Range [0, 255]. Convert image to uint8 prior to saving to suppress this warning.\n",
      "Lossy conversion from int32 to uint8. Range [0, 255]. Convert image to uint8 prior to saving to suppress this warning.\n"
     ]
    },
    {
     "name": "stdout",
     "output_type": "stream",
     "text": [
      "IMG_8284.jpg\n",
      "0.8099070116778295\n",
      "IMG_8284.jpg\n",
      "0.8369429397075349\n"
     ]
    },
    {
     "name": "stderr",
     "output_type": "stream",
     "text": [
      "Lossy conversion from int32 to uint8. Range [0, 255]. Convert image to uint8 prior to saving to suppress this warning.\n"
     ]
    },
    {
     "name": "stdout",
     "output_type": "stream",
     "text": [
      "IMG_8284.jpg\n",
      "0.9018236525262856\n"
     ]
    },
    {
     "name": "stderr",
     "output_type": "stream",
     "text": [
      "Lossy conversion from int32 to uint8. Range [0, 255]. Convert image to uint8 prior to saving to suppress this warning.\n",
      "Lossy conversion from int32 to uint8. Range [0, 255]. Convert image to uint8 prior to saving to suppress this warning.\n"
     ]
    },
    {
     "name": "stdout",
     "output_type": "stream",
     "text": [
      "IMG_8349.jpg\n",
      "0.9965872838722901\n",
      "IMG_8349.jpg\n",
      "0.9959014508004058\n"
     ]
    },
    {
     "name": "stderr",
     "output_type": "stream",
     "text": [
      "Lossy conversion from int32 to uint8. Range [0, 255]. Convert image to uint8 prior to saving to suppress this warning.\n",
      "Lossy conversion from int32 to uint8. Range [0, 255]. Convert image to uint8 prior to saving to suppress this warning.\n"
     ]
    },
    {
     "name": "stdout",
     "output_type": "stream",
     "text": [
      "IMG_8349.jpg\n",
      "0.9809244932730179\n",
      "IMG_8349.jpg\n",
      "0.9991167493316601\n"
     ]
    },
    {
     "name": "stderr",
     "output_type": "stream",
     "text": [
      "Lossy conversion from int32 to uint8. Range [0, 255]. Convert image to uint8 prior to saving to suppress this warning.\n"
     ]
    },
    {
     "name": "stdout",
     "output_type": "stream",
     "text": [
      "IMG_8349.jpg\n",
      "0.9988934041357023\n"
     ]
    }
   ],
   "source": [
    "fileNames = ['IMG_8277.jpg','IMG_8280.jpg','IMG_8333.jpg','IMG_8338.jpg','IMG_8342.jpg','IMG_8343.jpg','IMG_8312.jpg','IMG_8284.jpg','IMG_8349.jpg']\n",
    "\n",
    "for fileName in fileNames:\n",
    "    newFileName = \"testing_\" + fileName\n",
    "    \n",
    "    image = imread(newFileName)\n",
    "    image = exposure.equalize_hist(image)\n",
    "    \n",
    "    #Crop out individual ears\n",
    "    top_five = segment_and_crop_loop(image)\n",
    "    \n",
    "    #Convert binary image back into non-binary\n",
    "    for i in range(5,10):\n",
    "        #Clear edges of image from nearby corncobs\n",
    "        cobImg = top_five[i]\n",
    "        \n",
    "        #Define thresholds for isolating tray in photos\n",
    "        hmin = 0.09\n",
    "        hmax = 1.01\n",
    "        smin = 0.60\n",
    "        smax = 1.01\n",
    "        vmin = -1\n",
    "        vmax = 256\n",
    "\n",
    "        #convert from rgb to hsv color space, pull out matrices\n",
    "        hsv = colors.rgb_to_hsv(cobImg)\n",
    "        h = hsv[:,:,0]; #hue matrix\n",
    "        s = hsv[:,:,1]; #saturation matrix\n",
    "        v = hsv[:,:,2]; #value matrix (i.e. brightness)\n",
    "    \n",
    "        #Convert to binary image based on thresholds\n",
    "        # trick because the color space wraps\n",
    "        if hmin > hmax:\n",
    "            b_img = (h > hmin) | (h < hmax)\n",
    "        else:\n",
    "            b_img = (h > hmin) & (h < hmax);\n",
    "            b_img = (b_img & \n",
    "                (s > smin) & (s < smax) & \n",
    "                (v > vmin) & (v < vmax));\n",
    "    \n",
    "        #Calculate entropy (i.e. disorder in pixel/kernel arangement)\n",
    "        entropy = skimage.measure.shannon_entropy(b_img)\n",
    "        imsave(\"binary_\" + str(i) + \"_\" + newFileName, b_img * 255)\n",
    "        print(\"binary_\" + str(i) + \"_\" + newFileName)\n",
    "        print(entropy)"
   ]
  }
 ],
 "metadata": {
  "kernelspec": {
   "display_name": "Python 3",
   "language": "python",
   "name": "python3"
  },
  "language_info": {
   "codemirror_mode": {
    "name": "ipython",
    "version": 3
   },
   "file_extension": ".py",
   "mimetype": "text/x-python",
   "name": "python",
   "nbconvert_exporter": "python",
   "pygments_lexer": "ipython3",
   "version": "3.8.8"
  }
 },
 "nbformat": 4,
 "nbformat_minor": 4
}
