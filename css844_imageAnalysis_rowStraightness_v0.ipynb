{
 "cells": [
  {
   "cell_type": "markdown",
   "metadata": {},
   "source": [
    "## Load images and packages"
   ]
  },
  {
   "cell_type": "code",
   "execution_count": 1,
   "metadata": {},
   "outputs": [
    {
     "ename": "FileNotFoundError",
     "evalue": "[WinError 3] The system cannot find the path specified: '.\\\\cornPhotos'",
     "output_type": "error",
     "traceback": [
      "\u001b[1;31m---------------------------------------------------------------------------\u001b[0m",
      "\u001b[1;31mFileNotFoundError\u001b[0m                         Traceback (most recent call last)",
      "\u001b[1;32m<ipython-input-1-d3ee439799ee>\u001b[0m in \u001b[0;36m<module>\u001b[1;34m\u001b[0m\n\u001b[0;32m     11\u001b[0m \u001b[1;33m\u001b[0m\u001b[0m\n\u001b[0;32m     12\u001b[0m \u001b[1;31m#Get list of photo names\u001b[0m\u001b[1;33m\u001b[0m\u001b[1;33m\u001b[0m\u001b[1;33m\u001b[0m\u001b[0m\n\u001b[1;32m---> 13\u001b[1;33m \u001b[0mfileNames\u001b[0m \u001b[1;33m=\u001b[0m \u001b[0mos\u001b[0m\u001b[1;33m.\u001b[0m\u001b[0mlistdir\u001b[0m\u001b[1;33m(\u001b[0m\u001b[0mpath\u001b[0m\u001b[1;33m=\u001b[0m\u001b[1;34m'.\\cornPhotos'\u001b[0m\u001b[1;33m)\u001b[0m\u001b[1;33m\u001b[0m\u001b[1;33m\u001b[0m\u001b[0m\n\u001b[0m\u001b[0;32m     14\u001b[0m \u001b[0mprint\u001b[0m\u001b[1;33m(\u001b[0m\u001b[0mfileNames\u001b[0m\u001b[1;33m)\u001b[0m\u001b[1;33m\u001b[0m\u001b[1;33m\u001b[0m\u001b[0m\n\u001b[0;32m     15\u001b[0m \u001b[0mos\u001b[0m\u001b[1;33m.\u001b[0m\u001b[0mchdir\u001b[0m\u001b[1;33m(\u001b[0m\u001b[0mpath\u001b[0m\u001b[1;33m=\u001b[0m\u001b[1;34m'.\\cornPhotos'\u001b[0m\u001b[1;33m)\u001b[0m\u001b[1;33m\u001b[0m\u001b[1;33m\u001b[0m\u001b[0m\n",
      "\u001b[1;31mFileNotFoundError\u001b[0m: [WinError 3] The system cannot find the path specified: '.\\\\cornPhotos'"
     ]
    }
   ],
   "source": [
    "#The following code snip-it reads any file from the internet and saves it to your local directory.\n",
    "from urllib.request import urlopen, urlretrieve\n",
    "from imageio import imread, imsave\n",
    "from matplotlib.pylab import plt\n",
    "import numpy as np\n",
    "from skimage import exposure #histogram equalization\n",
    "import colorsys #To convert to rbg to hsv color space\n",
    "import matplotlib.colors as colors\n",
    "import os #For getting list of files\n",
    "from scipy import ndimage #For performing erosion and dilation\n",
    "\n",
    "#Get list of photo names\n",
    "fileNames = os.listdir(path='.\\cornPhotos')\n",
    "print(fileNames)\n",
    "os.chdir(path='.\\cornPhotos')\n",
    "\n",
    "#Define thresholds for isolating tray in photos\n",
    "hmin = -0.01\n",
    "hmax = 1.01\n",
    "smin = 0.05\n",
    "smax = 1.01\n",
    "vmin = -0.01\n",
    "vmax = 1.01\n",
    "\n",
    "#Function for calculating run lengths in a binary array\n",
    "#function is from: https://stackoverflow.com/questions/1066758/find-length-of-sequences-of-identical-values-in-a-numpy-array-run-length-encodi\n",
    "def rle(inarray):\n",
    "        \"\"\" run length encoding. Partial credit to R rle function. \n",
    "            Multi datatype arrays catered for including non Numpy\n",
    "            returns: tuple (runlengths, startpositions, values) \"\"\"\n",
    "        ia = np.asarray(inarray)                # force numpy\n",
    "        n = len(ia)\n",
    "        if n == 0: \n",
    "            return (None, None, None)\n",
    "        else:\n",
    "            y = ia[1:] != ia[:-1]               # pairwise unequal (string safe)\n",
    "            i = np.append(np.where(y), n - 1)   # must include last element posi\n",
    "            z = np.diff(np.append(-1, i))       # run lengths\n",
    "            p = np.cumsum(np.append(0, z))[:-1] # positions\n",
    "            return(z, p, ia[i])\n",
    "\n",
    "#Loop over photos and crop them\n",
    "for fileName in fileNames:\n",
    "    #Load picture\n",
    "    im = imread(fileName)\n",
    "    \n",
    "    #Histogram equalization\n",
    "    im2 = exposure.equalize_hist(im)\n",
    "    \n",
    "    #convert from rgb to hsv color space, pull out matrices\n",
    "    hsv = colors.rgb_to_hsv(im2)\n",
    "    h = hsv[:,:,0]; #hue matrix\n",
    "    s = hsv[:,:,1]; #saturation matrix\n",
    "    v = hsv[:,:,2]; #value matrix (i.e. brightness)\n",
    "    \n",
    "    #Convert to binary image based on thresholds\n",
    "    # trick because the color space wraps\n",
    "    if hmin > hmax:\n",
    "        b_img = (h > hmin) | (h < hmax)\n",
    "    else:\n",
    "        b_img = (h > hmin) & (h < hmax);\n",
    "    b_img = (b_img & \n",
    "        (s > smin) & (s < smax) & \n",
    "        (v > vmin) & (v < vmax));\n",
    "    \n",
    "    #Clean up binary image with erosion and dilation\n",
    "    b2 = ndimage.binary_erosion(b_img, iterations = 10)\n",
    "    b3 = ndimage.binary_dilation(b2, iterations = 20)\n",
    "    \n",
    "    #Label objects in binary image\n",
    "    lab, num_features = ndimage.measurements.label(b3)\n",
    "    \n",
    "    #Sum togther rows and columns of binary array to determine which pixels represent the tray (labeled as object 1) \n",
    "    a1 = np.sum(lab==1,axis=1)\n",
    "    a0 = np.sum(lab==1,axis=0)\n",
    "    \n",
    "    #Convert binary arrays to logical arrays. Now just need to find longest run of False elements in each array\n",
    "    al0 = a0 < max(a0)\n",
    "    al1 = a1 < max(a1)\n",
    "    \n",
    "    #Calculate run lengths\n",
    "    runLengths0 = rle(al0)\n",
    "    runLengths1 = rle(al1)\n",
    "    \n",
    "    #Focus on columns\n",
    "    ##Find index of where longest run begins\n",
    "    runs0 = runLengths0[0]\n",
    "    positions0 =  runLengths0[1]\n",
    "    maxRun0 = max(runs0)\n",
    "    result = np.where(runs0 == maxRun0)\n",
    "    ##Calculate where longest run ends\n",
    "    index = np.asarray(result)\n",
    "    startCol = positions0[index].tolist()[0][0]\n",
    "    endCol = startCol + maxRun0\n",
    "    \n",
    "    #Focus on rows\n",
    "    ##Find index of where longest run begins\n",
    "    runs1 = runLengths1[0]\n",
    "    positions1 =  runLengths1[1]\n",
    "    maxRun1 = max(runs1)\n",
    "    result = np.where(runs1 == maxRun1)\n",
    "    ##Calculate where longest run ends\n",
    "    index = np.asarray(result)\n",
    "    startRow = positions1[index].tolist()[0][0]\n",
    "    endRow = startRow + maxRun1\n",
    "    \n",
    "    #Crop and save image\n",
    "    im3 = im2[startRow:endRow,startCol:endCol]\n",
    "    imsave(\"cropped_\" + fileName, im3)\n"
   ]
  },
  {
   "cell_type": "markdown",
   "metadata": {},
   "source": [
    "# GRAVEYARD"
   ]
  },
  {
   "cell_type": "markdown",
   "metadata": {},
   "source": [
    "## Histogram equalization"
   ]
  },
  {
   "cell_type": "code",
   "execution_count": null,
   "metadata": {},
   "outputs": [],
   "source": [
    "# Code snip-it to do do histogram equalization on an RGB image with R, B and G in the same histogram\n",
    "im2 = exposure.equalize_hist(im)\n",
    "plt.imshow(im2)"
   ]
  },
  {
   "cell_type": "markdown",
   "metadata": {},
   "source": [
    "## Which values are most useful for thresholding?"
   ]
  },
  {
   "cell_type": "code",
   "execution_count": null,
   "metadata": {},
   "outputs": [],
   "source": [
    "import colorsys\n",
    "import matplotlib.colors as colors\n",
    "\n",
    "hsv = colors.rgb_to_hsv(im2)\n",
    "f, (ax1, ax2, ax3, ax4) = plt.subplots(1, 4,figsize=(20,5))\n",
    "ax1.imshow(hsv[:,:,0], cmap='hsv')\n",
    "ax1.set_title('Hue - Color')\n",
    "ax1.set_axis_off()\n",
    "\n",
    "ax2.imshow(hsv[:,:,1],cmap='gray',vmin=0, vmax=1)\n",
    "ax2.set_title('Saturation - Amount of Color')\n",
    "ax2.set_axis_off()\n",
    "\n",
    "ax3.imshow(hsv[:,:,2],cmap='gray')\n",
    "ax3.set_title('Value - Brightness')\n",
    "ax3.set_axis_off()\n",
    "\n",
    "ax4.imshow(im)\n",
    "ax4.set_axis_off()"
   ]
  },
  {
   "cell_type": "markdown",
   "metadata": {},
   "source": [
    "## Determine proper thresholds"
   ]
  },
  {
   "cell_type": "code",
   "execution_count": null,
   "metadata": {},
   "outputs": [],
   "source": [
    "from ipywidgets import interactive,fixed\n",
    "\n",
    "def hsv_color_threshold(im, hmin=-0.01,hmax=1.01, smin=-0.01,smax=1.01,vmin=-1,vmax=256):\n",
    "    # Pull out the red, gree and blue matrixes\n",
    "    hsv = colors.rgb_to_hsv(im)\n",
    "    h = hsv[:,:,0];\n",
    "    s = hsv[:,:,1];\n",
    "    v = hsv[:,:,2];\n",
    "    \n",
    "    # trick because the color space wraps\n",
    "    if hmin > hmax:\n",
    "        b_img = (h > hmin) | (h < hmax)\n",
    "    else:\n",
    "        b_img = (h > hmin) & (h < hmax);\n",
    "    \n",
    "    \n",
    "    b_img = (b_img & \n",
    "         (s > smin) & (s < smax) & \n",
    "         (v > vmin) & (v < vmax));\n",
    "    \n",
    "    f, (ax1, ax2) = plt.subplots(1, 2,figsize=(20,5))\n",
    "    ax1.imshow(im)\n",
    "    ax1.set_axis_off()\n",
    "    \n",
    "    ax2.imshow(b_img,cmap='gray', vmin=0, vmax=1)\n",
    "    ax2.set_title('Value - Brightness')\n",
    "    ax2.set_axis_off()\n",
    "\n",
    "    plt.show()\n",
    "    return b_img*1;\n",
    "\n",
    "w = interactive(hsv_color_threshold, im=fixed(im2),\n",
    "         hmin=(-0.01,1.01,0.01), hmax=(-0.01,1.01,0.01), \n",
    "         smin=(-0.01,1.01,0.01), smax=(-0.01,1.01,0.01), \n",
    "         vmin=(-1,256), vmax=(-1,256),__manual=True);\n",
    "w"
   ]
  },
  {
   "cell_type": "markdown",
   "metadata": {},
   "source": [
    "## Convert from rgb to hsv"
   ]
  },
  {
   "cell_type": "code",
   "execution_count": null,
   "metadata": {},
   "outputs": [],
   "source": [
    "hsv = colors.rgb_to_hsv(im2)\n",
    "\n",
    "#Pull out matrices\n",
    "h = hsv[:,:,0]; #hue matrix\n",
    "s = hsv[:,:,1]; #saturation matrix\n",
    "v = hsv[:,:,2]; #value matrix (i.e. brightness)"
   ]
  },
  {
   "cell_type": "markdown",
   "metadata": {},
   "source": [
    "## Apply thresholds"
   ]
  },
  {
   "cell_type": "code",
   "execution_count": null,
   "metadata": {},
   "outputs": [],
   "source": [
    "hmin = -0.01\n",
    "hmax = 1.01\n",
    "smin = 0.05\n",
    "smax = 1.01\n",
    "vmin = -0.01\n",
    "vmax = 1.01\n",
    "\n",
    "# trick because the color space wraps\n",
    "if hmin > hmax:\n",
    "    b_img = (h > hmin) | (h < hmax)\n",
    "else:\n",
    "    b_img = (h > hmin) & (h < hmax);\n",
    "    \n",
    "    \n",
    "b_img = (b_img & \n",
    "    (s > smin) & (s < smax) & \n",
    "    (v > vmin) & (v < vmax));\n",
    "\n",
    "b_img\n",
    "plt.imshow(b_img, cmap='gray', vmin=0, vmax=1)"
   ]
  },
  {
   "cell_type": "markdown",
   "metadata": {},
   "source": [
    "## Apply erosion and dilation"
   ]
  },
  {
   "cell_type": "code",
   "execution_count": null,
   "metadata": {},
   "outputs": [],
   "source": [
    "from scipy import ndimage\n",
    "after_erosion = ndimage.binary_erosion(b_img, iterations=3)\n",
    "plt.imshow(after_erosion, cmap='gray', vmin=0, vmax=1)"
   ]
  },
  {
   "cell_type": "code",
   "execution_count": null,
   "metadata": {},
   "outputs": [],
   "source": [
    "after_dilation = ndimage.binary_dilation(b_img, iterations=3)\n",
    "plt.imshow(after_dilation, cmap='gray', vmin=0, vmax=1)"
   ]
  },
  {
   "cell_type": "code",
   "execution_count": null,
   "metadata": {},
   "outputs": [],
   "source": [
    "b2 = ndimage.binary_erosion(b_img, iterations = 10)\n",
    "b3 = ndimage.binary_dilation(b2, iterations = 20)\n",
    "plt.imshow(b3, cmap='gray', vmin=0, vmax=1)"
   ]
  },
  {
   "cell_type": "markdown",
   "metadata": {},
   "source": [
    "## Crop original photo based on tray"
   ]
  },
  {
   "cell_type": "code",
   "execution_count": null,
   "metadata": {},
   "outputs": [],
   "source": [
    "lab, num_features = ndimage.measurements.label(b3)\n",
    "plt.imshow(lab==1, cmap='jet')"
   ]
  },
  {
   "cell_type": "code",
   "execution_count": null,
   "metadata": {
    "scrolled": true
   },
   "outputs": [],
   "source": [
    "a1 = np.sum(lab==1,axis=1)\n",
    "plt.plot(a1)"
   ]
  },
  {
   "cell_type": "code",
   "execution_count": null,
   "metadata": {
    "scrolled": true
   },
   "outputs": [],
   "source": [
    "a0 = np.sum(lab==1,axis=0)\n",
    "plt.plot(a0)"
   ]
  },
  {
   "cell_type": "code",
   "execution_count": null,
   "metadata": {},
   "outputs": [],
   "source": [
    "al0 = a0 < max(a0)\n",
    "al1 = a1 < max(a1)"
   ]
  },
  {
   "cell_type": "code",
   "execution_count": null,
   "metadata": {},
   "outputs": [],
   "source": [
    "#function is from: https://stackoverflow.com/questions/1066758/find-length-of-sequences-of-identical-values-in-a-numpy-array-run-length-encodi\n",
    "def rle(inarray):\n",
    "        \"\"\" run length encoding. Partial credit to R rle function. \n",
    "            Multi datatype arrays catered for including non Numpy\n",
    "            returns: tuple (runlengths, startpositions, values) \"\"\"\n",
    "        ia = np.asarray(inarray)                # force numpy\n",
    "        n = len(ia)\n",
    "        if n == 0: \n",
    "            return (None, None, None)\n",
    "        else:\n",
    "            y = ia[1:] != ia[:-1]               # pairwise unequal (string safe)\n",
    "            i = np.append(np.where(y), n - 1)   # must include last element posi\n",
    "            z = np.diff(np.append(-1, i))       # run lengths\n",
    "            p = np.cumsum(np.append(0, z))[:-1] # positions\n",
    "            return(z, p, ia[i])"
   ]
  },
  {
   "cell_type": "code",
   "execution_count": null,
   "metadata": {},
   "outputs": [],
   "source": [
    "runLengths0 = rle(al0)\n",
    "runLengths1 = rle(al1)\n",
    "\n",
    "#Result is weird tuple that I can't extract number from\n",
    "runs0 = runLengths0[0]\n",
    "positions0 =  runLengths0[1]\n",
    "maxRun0 = max(runs0)\n",
    "result = np.where(runs0 == maxRun0)\n",
    "\n",
    "index = np.asarray(result)\n",
    "startCol = positions0[index].tolist()[0][0]\n",
    "endCol = startCol + maxRun0\n",
    "print(startCol)\n",
    "print(endCol)\n",
    "\n",
    "#\n",
    "runs1 = runLengths1[0]\n",
    "positions1 =  runLengths1[1]\n",
    "maxRun1 = max(runs1)\n",
    "result = np.where(runs1 == maxRun1)\n",
    "\n",
    "index = np.asarray(result)\n",
    "startRow = positions1[index].tolist()[0][0]\n",
    "endRow = startRow + maxRun1\n",
    "print(startRow)\n",
    "print(endRow)"
   ]
  },
  {
   "cell_type": "code",
   "execution_count": null,
   "metadata": {},
   "outputs": [],
   "source": [
    "im3 = im2[startRow:endRow,startCol:endCol]\n",
    "plt.imshow(im3)"
   ]
  },
  {
   "cell_type": "code",
   "execution_count": null,
   "metadata": {},
   "outputs": [],
   "source": [
    "imsave('cropped.jpg', im3)"
   ]
  }
 ],
 "metadata": {
  "kernelspec": {
   "display_name": "Python 3",
   "language": "python",
   "name": "python3"
  },
  "language_info": {
   "codemirror_mode": {
    "name": "ipython",
    "version": 3
   },
   "file_extension": ".py",
   "mimetype": "text/x-python",
   "name": "python",
   "nbconvert_exporter": "python",
   "pygments_lexer": "ipython3",
   "version": "3.8.3"
  }
 },
 "nbformat": 4,
 "nbformat_minor": 4
}
